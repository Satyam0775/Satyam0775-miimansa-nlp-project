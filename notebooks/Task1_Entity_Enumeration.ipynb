{
 "cells": [
  {
   "cell_type": "code",
   "execution_count": 1,
   "id": "505d61c4",
   "metadata": {},
   "outputs": [
    {
     "name": "stdout",
     "output_type": "stream",
     "text": [
      "Active code page: 1252\n",
      "Requirement already satisfied: transformers in c:\\users\\satya\\downloads\\miimansa problem\\.venv\\lib\\site-packages (4.56.1)\n",
      "Requirement already satisfied: datasets in c:\\users\\satya\\downloads\\miimansa problem\\.venv\\lib\\site-packages (4.1.0)\n",
      "Requirement already satisfied: torch in c:\\users\\satya\\downloads\\miimansa problem\\.venv\\lib\\site-packages (2.8.0)\n",
      "Requirement already satisfied: sentence-transformers in c:\\users\\satya\\downloads\\miimansa problem\\.venv\\lib\\site-packages (5.1.0)\n",
      "Requirement already satisfied: scikit-learn in c:\\users\\satya\\downloads\\miimansa problem\\.venv\\lib\\site-packages (1.7.2)\n",
      "Requirement already satisfied: seqeval in c:\\users\\satya\\downloads\\miimansa problem\\.venv\\lib\\site-packages (1.2.2)\n",
      "Requirement already satisfied: pandas in c:\\users\\satya\\downloads\\miimansa problem\\.venv\\lib\\site-packages (2.3.2)\n",
      "Requirement already satisfied: filelock in c:\\users\\satya\\downloads\\miimansa problem\\.venv\\lib\\site-packages (from transformers) (3.19.1)\n",
      "Requirement already satisfied: huggingface-hub<1.0,>=0.34.0 in c:\\users\\satya\\downloads\\miimansa problem\\.venv\\lib\\site-packages (from transformers) (0.34.6)\n",
      "Requirement already satisfied: numpy>=1.17 in c:\\users\\satya\\downloads\\miimansa problem\\.venv\\lib\\site-packages (from transformers) (2.3.3)\n",
      "Requirement already satisfied: packaging>=20.0 in c:\\users\\satya\\downloads\\miimansa problem\\.venv\\lib\\site-packages (from transformers) (25.0)\n",
      "Requirement already satisfied: pyyaml>=5.1 in c:\\users\\satya\\downloads\\miimansa problem\\.venv\\lib\\site-packages (from transformers) (6.0.2)\n",
      "Requirement already satisfied: regex!=2019.12.17 in c:\\users\\satya\\downloads\\miimansa problem\\.venv\\lib\\site-packages (from transformers) (2025.9.1)\n",
      "Requirement already satisfied: requests in c:\\users\\satya\\downloads\\miimansa problem\\.venv\\lib\\site-packages (from transformers) (2.32.5)\n",
      "Requirement already satisfied: tokenizers<=0.23.0,>=0.22.0 in c:\\users\\satya\\downloads\\miimansa problem\\.venv\\lib\\site-packages (from transformers) (0.22.0)\n",
      "Requirement already satisfied: safetensors>=0.4.3 in c:\\users\\satya\\downloads\\miimansa problem\\.venv\\lib\\site-packages (from transformers) (0.6.2)\n",
      "Requirement already satisfied: tqdm>=4.27 in c:\\users\\satya\\downloads\\miimansa problem\\.venv\\lib\\site-packages (from transformers) (4.67.1)\n",
      "Requirement already satisfied: fsspec>=2023.5.0 in c:\\users\\satya\\downloads\\miimansa problem\\.venv\\lib\\site-packages (from huggingface-hub<1.0,>=0.34.0->transformers) (2025.9.0)\n",
      "Requirement already satisfied: typing-extensions>=3.7.4.3 in c:\\users\\satya\\downloads\\miimansa problem\\.venv\\lib\\site-packages (from huggingface-hub<1.0,>=0.34.0->transformers) (4.15.0)\n",
      "Requirement already satisfied: pyarrow>=21.0.0 in c:\\users\\satya\\downloads\\miimansa problem\\.venv\\lib\\site-packages (from datasets) (21.0.0)\n",
      "Requirement already satisfied: dill<0.4.1,>=0.3.0 in c:\\users\\satya\\downloads\\miimansa problem\\.venv\\lib\\site-packages (from datasets) (0.4.0)\n",
      "Requirement already satisfied: xxhash in c:\\users\\satya\\downloads\\miimansa problem\\.venv\\lib\\site-packages (from datasets) (3.5.0)\n",
      "Requirement already satisfied: multiprocess<0.70.17 in c:\\users\\satya\\downloads\\miimansa problem\\.venv\\lib\\site-packages (from datasets) (0.70.16)\n",
      "Requirement already satisfied: aiohttp!=4.0.0a0,!=4.0.0a1 in c:\\users\\satya\\downloads\\miimansa problem\\.venv\\lib\\site-packages (from fsspec[http]<=2025.9.0,>=2023.1.0->datasets) (3.12.15)\n",
      "Requirement already satisfied: sympy>=1.13.3 in c:\\users\\satya\\downloads\\miimansa problem\\.venv\\lib\\site-packages (from torch) (1.14.0)\n",
      "Requirement already satisfied: networkx in c:\\users\\satya\\downloads\\miimansa problem\\.venv\\lib\\site-packages (from torch) (3.5)\n",
      "Requirement already satisfied: jinja2 in c:\\users\\satya\\downloads\\miimansa problem\\.venv\\lib\\site-packages (from torch) (3.1.6)\n",
      "Requirement already satisfied: setuptools in c:\\users\\satya\\downloads\\miimansa problem\\.venv\\lib\\site-packages (from torch) (80.9.0)\n",
      "Requirement already satisfied: scipy in c:\\users\\satya\\downloads\\miimansa problem\\.venv\\lib\\site-packages (from sentence-transformers) (1.16.2)\n",
      "Requirement already satisfied: Pillow in c:\\users\\satya\\downloads\\miimansa problem\\.venv\\lib\\site-packages (from sentence-transformers) (11.3.0)\n",
      "Requirement already satisfied: joblib>=1.2.0 in c:\\users\\satya\\downloads\\miimansa problem\\.venv\\lib\\site-packages (from scikit-learn) (1.5.2)\n",
      "Requirement already satisfied: threadpoolctl>=3.1.0 in c:\\users\\satya\\downloads\\miimansa problem\\.venv\\lib\\site-packages (from scikit-learn) (3.6.0)\n",
      "Requirement already satisfied: python-dateutil>=2.8.2 in c:\\users\\satya\\downloads\\miimansa problem\\.venv\\lib\\site-packages (from pandas) (2.9.0.post0)\n",
      "Requirement already satisfied: pytz>=2020.1 in c:\\users\\satya\\downloads\\miimansa problem\\.venv\\lib\\site-packages (from pandas) (2025.2)\n",
      "Requirement already satisfied: tzdata>=2022.7 in c:\\users\\satya\\downloads\\miimansa problem\\.venv\\lib\\site-packages (from pandas) (2025.2)\n",
      "Requirement already satisfied: aiohappyeyeballs>=2.5.0 in c:\\users\\satya\\downloads\\miimansa problem\\.venv\\lib\\site-packages (from aiohttp!=4.0.0a0,!=4.0.0a1->fsspec[http]<=2025.9.0,>=2023.1.0->datasets) (2.6.1)\n",
      "Requirement already satisfied: aiosignal>=1.4.0 in c:\\users\\satya\\downloads\\miimansa problem\\.venv\\lib\\site-packages (from aiohttp!=4.0.0a0,!=4.0.0a1->fsspec[http]<=2025.9.0,>=2023.1.0->datasets) (1.4.0)\n",
      "Requirement already satisfied: attrs>=17.3.0 in c:\\users\\satya\\downloads\\miimansa problem\\.venv\\lib\\site-packages (from aiohttp!=4.0.0a0,!=4.0.0a1->fsspec[http]<=2025.9.0,>=2023.1.0->datasets) (25.3.0)\n",
      "Requirement already satisfied: frozenlist>=1.1.1 in c:\\users\\satya\\downloads\\miimansa problem\\.venv\\lib\\site-packages (from aiohttp!=4.0.0a0,!=4.0.0a1->fsspec[http]<=2025.9.0,>=2023.1.0->datasets) (1.7.0)\n",
      "Requirement already satisfied: multidict<7.0,>=4.5 in c:\\users\\satya\\downloads\\miimansa problem\\.venv\\lib\\site-packages (from aiohttp!=4.0.0a0,!=4.0.0a1->fsspec[http]<=2025.9.0,>=2023.1.0->datasets) (6.6.4)\n",
      "Requirement already satisfied: propcache>=0.2.0 in c:\\users\\satya\\downloads\\miimansa problem\\.venv\\lib\\site-packages (from aiohttp!=4.0.0a0,!=4.0.0a1->fsspec[http]<=2025.9.0,>=2023.1.0->datasets) (0.3.2)\n",
      "Requirement already satisfied: yarl<2.0,>=1.17.0 in c:\\users\\satya\\downloads\\miimansa problem\\.venv\\lib\\site-packages (from aiohttp!=4.0.0a0,!=4.0.0a1->fsspec[http]<=2025.9.0,>=2023.1.0->datasets) (1.20.1)\n",
      "Requirement already satisfied: idna>=2.0 in c:\\users\\satya\\downloads\\miimansa problem\\.venv\\lib\\site-packages (from yarl<2.0,>=1.17.0->aiohttp!=4.0.0a0,!=4.0.0a1->fsspec[http]<=2025.9.0,>=2023.1.0->datasets) (3.10)\n",
      "Requirement already satisfied: six>=1.5 in c:\\users\\satya\\downloads\\miimansa problem\\.venv\\lib\\site-packages (from python-dateutil>=2.8.2->pandas) (1.17.0)\n",
      "Requirement already satisfied: charset_normalizer<4,>=2 in c:\\users\\satya\\downloads\\miimansa problem\\.venv\\lib\\site-packages (from requests->transformers) (3.4.3)\n",
      "Requirement already satisfied: urllib3<3,>=1.21.1 in c:\\users\\satya\\downloads\\miimansa problem\\.venv\\lib\\site-packages (from requests->transformers) (2.5.0)\n",
      "Requirement already satisfied: certifi>=2017.4.17 in c:\\users\\satya\\downloads\\miimansa problem\\.venv\\lib\\site-packages (from requests->transformers) (2025.8.3)\n",
      "Requirement already satisfied: mpmath<1.4,>=1.1.0 in c:\\users\\satya\\downloads\\miimansa problem\\.venv\\lib\\site-packages (from sympy>=1.13.3->torch) (1.3.0)\n",
      "Requirement already satisfied: colorama in c:\\users\\satya\\downloads\\miimansa problem\\.venv\\lib\\site-packages (from tqdm>=4.27->transformers) (0.4.6)\n",
      "Requirement already satisfied: MarkupSafe>=2.0 in c:\\users\\satya\\downloads\\miimansa problem\\.venv\\lib\\site-packages (from jinja2->torch) (3.0.2)\n",
      "Note: you may need to restart the kernel to use updated packages.\n"
     ]
    }
   ],
   "source": [
    "pip install transformers datasets torch sentence-transformers scikit-learn seqeval pandas\n"
   ]
  },
  {
   "cell_type": "code",
   "execution_count": 3,
   "id": "47ed1824",
   "metadata": {},
   "outputs": [],
   "source": [
    "# Correct base path for your dataset\n",
    "DATA_DIR = r\"C:\\Users\\satya\\Downloads\\Miimansa Problem\\Assignment\\data\\CADEC.v2\"\n"
   ]
  },
  {
   "cell_type": "code",
   "execution_count": 4,
   "id": "5d0055ba",
   "metadata": {},
   "outputs": [
    {
     "name": "stdout",
     "output_type": "stream",
     "text": [
      "Total original files found: 1250\n",
      "First 5 files: ['C:\\\\Users\\\\satya\\\\Downloads\\\\Miimansa Problem\\\\Assignment\\\\data\\\\CADEC.v2\\\\original\\\\ARTHROTEC.1.ann', 'C:\\\\Users\\\\satya\\\\Downloads\\\\Miimansa Problem\\\\Assignment\\\\data\\\\CADEC.v2\\\\original\\\\ARTHROTEC.10.ann', 'C:\\\\Users\\\\satya\\\\Downloads\\\\Miimansa Problem\\\\Assignment\\\\data\\\\CADEC.v2\\\\original\\\\ARTHROTEC.100.ann', 'C:\\\\Users\\\\satya\\\\Downloads\\\\Miimansa Problem\\\\Assignment\\\\data\\\\CADEC.v2\\\\original\\\\ARTHROTEC.101.ann', 'C:\\\\Users\\\\satya\\\\Downloads\\\\Miimansa Problem\\\\Assignment\\\\data\\\\CADEC.v2\\\\original\\\\ARTHROTEC.102.ann']\n"
     ]
    }
   ],
   "source": [
    "import glob, os\n",
    "\n",
    "# Base dataset path\n",
    "DATA_DIR = r\"C:\\Users\\satya\\Downloads\\Miimansa Problem\\Assignment\\data\\CADEC.v2\"\n",
    "\n",
    "# Look inside original folder for .ann files\n",
    "files = glob.glob(os.path.join(DATA_DIR, \"original\", \"*.ann\"))\n",
    "print(\"Total original files found:\", len(files))\n",
    "print(\"First 5 files:\", files[:5])\n"
   ]
  },
  {
   "cell_type": "code",
   "execution_count": 7,
   "id": "f78c00a2",
   "metadata": {},
   "outputs": [
    {
     "name": "stdout",
     "output_type": "stream",
     "text": [
      "0 'T1\\tADR 9 19\\tbit drowsy\\n'\n",
      "1 '#1\\tAnnotatorNotes T1\\tDrowsy\\n'\n",
      "2 'T2\\tADR 29 50\\tlittle blurred vision\\n'\n",
      "3 '#2\\tAnnotatorNotes T2\\tBlurred Vision\\n'\n",
      "4 'T3\\tDrug 93 102\\tArthrotec\\n'\n",
      "5 'T5\\tDisease 179 188\\tarthritis\\n'\n",
      "6 'T6\\tSymptom 260 265\\tagony\\n'\n",
      "7 'T4\\tADR 62 78\\tgastric problems\\n'\n",
      "8 'T7\\tSymptom 412 417\\tpains\\n'\n",
      "9 'T8\\tADR 437 453\\tfeel a bit weird\\n'\n",
      "10 '#8\\tAnnotatorNotes T7\\tImplies a previous symptom of pain.\\n'\n"
     ]
    }
   ],
   "source": [
    "sample_file = r\"C:\\Users\\satya\\Downloads\\Miimansa Problem\\Assignment\\data\\CADEC.v2\\original\\ARTHROTEC.1.ann\"\n",
    "\n",
    "with open(sample_file, \"r\", encoding=\"utf-8\") as f:\n",
    "    for i, line in enumerate(f):\n",
    "        print(i, repr(line))\n",
    "        if i > 10:\n",
    "            break\n"
   ]
  },
  {
   "cell_type": "code",
   "execution_count": 8,
   "id": "cf84f3d0",
   "metadata": {},
   "outputs": [
    {
     "name": "stdout",
     "output_type": "stream",
     "text": [
      "['T1', 'ADR 9 19', 'bit drowsy\\n']\n",
      "['#1', 'AnnotatorNotes T1', 'Drowsy\\n']\n",
      "['T2', 'ADR 29 50', 'little blurred vision\\n']\n",
      "['#2', 'AnnotatorNotes T2', 'Blurred Vision\\n']\n",
      "['T3', 'Drug 93 102', 'Arthrotec\\n']\n",
      "['T5', 'Disease 179 188', 'arthritis\\n']\n",
      "['T6', 'Symptom 260 265', 'agony\\n']\n",
      "['T4', 'ADR 62 78', 'gastric problems\\n']\n",
      "['T7', 'Symptom 412 417', 'pains\\n']\n",
      "['T8', 'ADR 437 453', 'feel a bit weird\\n']\n",
      "['#8', 'AnnotatorNotes T7', 'Implies a previous symptom of pain.\\n']\n"
     ]
    }
   ],
   "source": [
    "with open(sample_file, \"r\", encoding=\"utf-8\") as f:\n",
    "    for line in f:\n",
    "        print(repr(line.split(\"\\t\")))\n"
   ]
  },
  {
   "cell_type": "code",
   "execution_count": 12,
   "id": "9cf92672",
   "metadata": {},
   "outputs": [
    {
     "name": "stdout",
     "output_type": "stream",
     "text": [
      "\n",
      "Entity Counts:\n",
      "   Entity Type  Unique Entity Count\n",
      "0         ADR                 3400\n",
      "1        Drug                  323\n",
      "2     Disease                  164\n",
      "3     Symptom                  148\n",
      "4     Finding                  298\n",
      "\n",
      "✅ Results saved to: C:\\Users\\satya\\Downloads\\Miimansa Problem\\Assignment\\outputs\\task1_entities_final.csv\n",
      "\n",
      "Label: ADR\n",
      "Total unique entities: 3400\n",
      "Examples: ['cramps', 'bowel/uterine cramping', 'cold sweat', 'difficulty with speech', 'easy bruising', 'gastric upsets', 'loss of muscle mass in chest', 'pains in my left knee', 'raised blood pressure', 'blind spot']\n",
      "----------------------------------------\n",
      "\n",
      "Label: Drug\n",
      "Total unique entities: 323\n",
      "Examples: ['simvostatin', 'voltaren rapid 25', 'prednisone', 'clonidine', 'liptor', 'cortisone injection', 'prednisone 10mg', 'statins', 'celebrex 200mg', 'effexor']\n",
      "----------------------------------------\n",
      "\n",
      "Label: Disease\n",
      "Total unique entities: 164\n",
      "Examples: ['plantar fasciitis', 'lower back pain', 'oa', 'severe osteoarthritis in the hands', 'ulcerative colitis', 'diverticulitis', 'cholesterol', 'type 2 diabetes', 'asthmatic', 'gout']\n",
      "----------------------------------------\n",
      "\n",
      "Label: Symptom\n",
      "Total unique entities: 148\n",
      "Examples: ['rise in bp', 'lower back pain', 'pain in my forearms', 'chronic back', 'trigger point pain', 'cramps', 'menopause', 'i had trouble standing up from sitting position', 'very little mobility in my right hand', 'gout']\n",
      "----------------------------------------\n"
     ]
    }
   ],
   "source": [
    "import os\n",
    "from collections import defaultdict\n",
    "import pandas as pd\n",
    "\n",
    "# Paths\n",
    "DATA_DIR = r\"C:\\Users\\satya\\Downloads\\Miimansa Problem\\Assignment\\data\\CADEC.v2\\original\"\n",
    "OUTPUT_DIR = r\"C:\\Users\\satya\\Downloads\\Miimansa Problem\\Assignment\\outputs\"\n",
    "os.makedirs(OUTPUT_DIR, exist_ok=True)\n",
    "\n",
    "# Dictionary to store unique entities for each label\n",
    "distinct_entities = defaultdict(set)\n",
    "\n",
    "# Iterate through all annotation files\n",
    "for filename in os.listdir(DATA_DIR):\n",
    "    if not filename.endswith(\".ann\"):\n",
    "        continue\n",
    "    filepath = os.path.join(DATA_DIR, filename)\n",
    "    with open(filepath, \"r\", encoding=\"utf-8\") as file:\n",
    "        for line in file:\n",
    "            line = line.strip()\n",
    "            if not line or line.startswith(\"#\"):\n",
    "                continue  # Skip comments and empty lines\n",
    "            parts = line.split(\"\\t\")\n",
    "            if len(parts) < 3:\n",
    "                continue  # Skip malformed lines\n",
    "\n",
    "            # Example: T1\tADR 9 19\tbit drowsy\n",
    "            tag = parts[0]\n",
    "            label_info = parts[1].split()\n",
    "            label = label_info[0]  # ADR / Drug / Disease / Symptom\n",
    "            entity_text = parts[2].strip().lower()\n",
    "\n",
    "            distinct_entities[label].add(entity_text)\n",
    "\n",
    "# Prepare DataFrame for summary\n",
    "results = {label: len(entities) for label, entities in distinct_entities.items()}\n",
    "df = pd.DataFrame(list(results.items()), columns=[\"Entity Type\", \"Unique Entity Count\"])\n",
    "\n",
    "# Save to CSV\n",
    "output_file = os.path.join(OUTPUT_DIR, \"task1_entities_final.csv\")\n",
    "df.to_csv(output_file, index=False)\n",
    "\n",
    "# Print results\n",
    "print(\"\\nEntity Counts:\\n\", df)\n",
    "print(f\"\\n✅ Results saved to: {output_file}\")\n",
    "\n",
    "# Print some samples\n",
    "for label in [\"ADR\", \"Drug\", \"Disease\", \"Symptom\"]:\n",
    "    if label in distinct_entities:\n",
    "        print(f\"\\nLabel: {label}\")\n",
    "        print(f\"Total unique entities: {len(distinct_entities[label])}\")\n",
    "        print(\"Examples:\", list(distinct_entities[label])[:10])\n",
    "        print(\"-\" * 40)\n"
   ]
  }
 ],
 "metadata": {
  "kernelspec": {
   "display_name": ".venv (3.12.7)",
   "language": "python",
   "name": "python3"
  },
  "language_info": {
   "codemirror_mode": {
    "name": "ipython",
    "version": 3
   },
   "file_extension": ".py",
   "mimetype": "text/x-python",
   "name": "python",
   "nbconvert_exporter": "python",
   "pygments_lexer": "ipython3",
   "version": "3.12.7"
  }
 },
 "nbformat": 4,
 "nbformat_minor": 5
}
