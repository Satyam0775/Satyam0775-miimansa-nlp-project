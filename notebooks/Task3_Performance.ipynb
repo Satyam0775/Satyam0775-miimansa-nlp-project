{
 "cells": [
  {
   "cell_type": "code",
   "execution_count": 1,
   "id": "8531b447",
   "metadata": {},
   "outputs": [
    {
     "name": "stdout",
     "output_type": "stream",
     "text": [
      "Active code page: 1252\n",
      "Requirement already satisfied: transformers in c:\\users\\satya\\downloads\\miimansa problem\\.venv\\lib\\site-packages (4.56.1)\n",
      "Requirement already satisfied: datasets in c:\\users\\satya\\downloads\\miimansa problem\\.venv\\lib\\site-packages (4.1.0)\n",
      "Requirement already satisfied: torch in c:\\users\\satya\\downloads\\miimansa problem\\.venv\\lib\\site-packages (2.8.0)\n",
      "Requirement already satisfied: sentence-transformers in c:\\users\\satya\\downloads\\miimansa problem\\.venv\\lib\\site-packages (5.1.0)\n",
      "Requirement already satisfied: scikit-learn in c:\\users\\satya\\downloads\\miimansa problem\\.venv\\lib\\site-packages (1.7.2)\n",
      "Requirement already satisfied: seqeval in c:\\users\\satya\\downloads\\miimansa problem\\.venv\\lib\\site-packages (1.2.2)\n",
      "Requirement already satisfied: pandas in c:\\users\\satya\\downloads\\miimansa problem\\.venv\\lib\\site-packages (2.3.2)\n",
      "Requirement already satisfied: matplotlib in c:\\users\\satya\\downloads\\miimansa problem\\.venv\\lib\\site-packages (3.10.6)\n",
      "Requirement already satisfied: filelock in c:\\users\\satya\\downloads\\miimansa problem\\.venv\\lib\\site-packages (from transformers) (3.19.1)\n",
      "Requirement already satisfied: huggingface-hub<1.0,>=0.34.0 in c:\\users\\satya\\downloads\\miimansa problem\\.venv\\lib\\site-packages (from transformers) (0.34.6)\n",
      "Requirement already satisfied: numpy>=1.17 in c:\\users\\satya\\downloads\\miimansa problem\\.venv\\lib\\site-packages (from transformers) (2.3.3)\n",
      "Requirement already satisfied: packaging>=20.0 in c:\\users\\satya\\downloads\\miimansa problem\\.venv\\lib\\site-packages (from transformers) (25.0)\n",
      "Requirement already satisfied: pyyaml>=5.1 in c:\\users\\satya\\downloads\\miimansa problem\\.venv\\lib\\site-packages (from transformers) (6.0.2)\n",
      "Requirement already satisfied: regex!=2019.12.17 in c:\\users\\satya\\downloads\\miimansa problem\\.venv\\lib\\site-packages (from transformers) (2025.9.1)\n",
      "Requirement already satisfied: requests in c:\\users\\satya\\downloads\\miimansa problem\\.venv\\lib\\site-packages (from transformers) (2.32.5)\n",
      "Requirement already satisfied: tokenizers<=0.23.0,>=0.22.0 in c:\\users\\satya\\downloads\\miimansa problem\\.venv\\lib\\site-packages (from transformers) (0.22.0)\n",
      "Requirement already satisfied: safetensors>=0.4.3 in c:\\users\\satya\\downloads\\miimansa problem\\.venv\\lib\\site-packages (from transformers) (0.6.2)\n",
      "Requirement already satisfied: tqdm>=4.27 in c:\\users\\satya\\downloads\\miimansa problem\\.venv\\lib\\site-packages (from transformers) (4.67.1)\n",
      "Requirement already satisfied: fsspec>=2023.5.0 in c:\\users\\satya\\downloads\\miimansa problem\\.venv\\lib\\site-packages (from huggingface-hub<1.0,>=0.34.0->transformers) (2025.9.0)\n",
      "Requirement already satisfied: typing-extensions>=3.7.4.3 in c:\\users\\satya\\downloads\\miimansa problem\\.venv\\lib\\site-packages (from huggingface-hub<1.0,>=0.34.0->transformers) (4.15.0)\n",
      "Requirement already satisfied: pyarrow>=21.0.0 in c:\\users\\satya\\downloads\\miimansa problem\\.venv\\lib\\site-packages (from datasets) (21.0.0)\n",
      "Requirement already satisfied: dill<0.4.1,>=0.3.0 in c:\\users\\satya\\downloads\\miimansa problem\\.venv\\lib\\site-packages (from datasets) (0.4.0)\n",
      "Requirement already satisfied: xxhash in c:\\users\\satya\\downloads\\miimansa problem\\.venv\\lib\\site-packages (from datasets) (3.5.0)\n",
      "Requirement already satisfied: multiprocess<0.70.17 in c:\\users\\satya\\downloads\\miimansa problem\\.venv\\lib\\site-packages (from datasets) (0.70.16)\n",
      "Requirement already satisfied: aiohttp!=4.0.0a0,!=4.0.0a1 in c:\\users\\satya\\downloads\\miimansa problem\\.venv\\lib\\site-packages (from fsspec[http]<=2025.9.0,>=2023.1.0->datasets) (3.12.15)\n",
      "Requirement already satisfied: sympy>=1.13.3 in c:\\users\\satya\\downloads\\miimansa problem\\.venv\\lib\\site-packages (from torch) (1.14.0)\n",
      "Requirement already satisfied: networkx in c:\\users\\satya\\downloads\\miimansa problem\\.venv\\lib\\site-packages (from torch) (3.5)\n",
      "Requirement already satisfied: jinja2 in c:\\users\\satya\\downloads\\miimansa problem\\.venv\\lib\\site-packages (from torch) (3.1.6)\n",
      "Requirement already satisfied: setuptools in c:\\users\\satya\\downloads\\miimansa problem\\.venv\\lib\\site-packages (from torch) (80.9.0)\n",
      "Requirement already satisfied: scipy in c:\\users\\satya\\downloads\\miimansa problem\\.venv\\lib\\site-packages (from sentence-transformers) (1.16.2)\n",
      "Requirement already satisfied: Pillow in c:\\users\\satya\\downloads\\miimansa problem\\.venv\\lib\\site-packages (from sentence-transformers) (11.3.0)\n",
      "Requirement already satisfied: joblib>=1.2.0 in c:\\users\\satya\\downloads\\miimansa problem\\.venv\\lib\\site-packages (from scikit-learn) (1.5.2)\n",
      "Requirement already satisfied: threadpoolctl>=3.1.0 in c:\\users\\satya\\downloads\\miimansa problem\\.venv\\lib\\site-packages (from scikit-learn) (3.6.0)\n",
      "Requirement already satisfied: python-dateutil>=2.8.2 in c:\\users\\satya\\downloads\\miimansa problem\\.venv\\lib\\site-packages (from pandas) (2.9.0.post0)\n",
      "Requirement already satisfied: pytz>=2020.1 in c:\\users\\satya\\downloads\\miimansa problem\\.venv\\lib\\site-packages (from pandas) (2025.2)\n",
      "Requirement already satisfied: tzdata>=2022.7 in c:\\users\\satya\\downloads\\miimansa problem\\.venv\\lib\\site-packages (from pandas) (2025.2)\n",
      "Requirement already satisfied: contourpy>=1.0.1 in c:\\users\\satya\\downloads\\miimansa problem\\.venv\\lib\\site-packages (from matplotlib) (1.3.3)\n",
      "Requirement already satisfied: cycler>=0.10 in c:\\users\\satya\\downloads\\miimansa problem\\.venv\\lib\\site-packages (from matplotlib) (0.12.1)\n",
      "Requirement already satisfied: fonttools>=4.22.0 in c:\\users\\satya\\downloads\\miimansa problem\\.venv\\lib\\site-packages (from matplotlib) (4.60.0)\n",
      "Requirement already satisfied: kiwisolver>=1.3.1 in c:\\users\\satya\\downloads\\miimansa problem\\.venv\\lib\\site-packages (from matplotlib) (1.4.9)\n",
      "Requirement already satisfied: pyparsing>=2.3.1 in c:\\users\\satya\\downloads\\miimansa problem\\.venv\\lib\\site-packages (from matplotlib) (3.2.4)\n",
      "Requirement already satisfied: aiohappyeyeballs>=2.5.0 in c:\\users\\satya\\downloads\\miimansa problem\\.venv\\lib\\site-packages (from aiohttp!=4.0.0a0,!=4.0.0a1->fsspec[http]<=2025.9.0,>=2023.1.0->datasets) (2.6.1)\n",
      "Requirement already satisfied: aiosignal>=1.4.0 in c:\\users\\satya\\downloads\\miimansa problem\\.venv\\lib\\site-packages (from aiohttp!=4.0.0a0,!=4.0.0a1->fsspec[http]<=2025.9.0,>=2023.1.0->datasets) (1.4.0)\n",
      "Requirement already satisfied: attrs>=17.3.0 in c:\\users\\satya\\downloads\\miimansa problem\\.venv\\lib\\site-packages (from aiohttp!=4.0.0a0,!=4.0.0a1->fsspec[http]<=2025.9.0,>=2023.1.0->datasets) (25.3.0)\n",
      "Requirement already satisfied: frozenlist>=1.1.1 in c:\\users\\satya\\downloads\\miimansa problem\\.venv\\lib\\site-packages (from aiohttp!=4.0.0a0,!=4.0.0a1->fsspec[http]<=2025.9.0,>=2023.1.0->datasets) (1.7.0)\n",
      "Requirement already satisfied: multidict<7.0,>=4.5 in c:\\users\\satya\\downloads\\miimansa problem\\.venv\\lib\\site-packages (from aiohttp!=4.0.0a0,!=4.0.0a1->fsspec[http]<=2025.9.0,>=2023.1.0->datasets) (6.6.4)\n",
      "Requirement already satisfied: propcache>=0.2.0 in c:\\users\\satya\\downloads\\miimansa problem\\.venv\\lib\\site-packages (from aiohttp!=4.0.0a0,!=4.0.0a1->fsspec[http]<=2025.9.0,>=2023.1.0->datasets) (0.3.2)\n",
      "Requirement already satisfied: yarl<2.0,>=1.17.0 in c:\\users\\satya\\downloads\\miimansa problem\\.venv\\lib\\site-packages (from aiohttp!=4.0.0a0,!=4.0.0a1->fsspec[http]<=2025.9.0,>=2023.1.0->datasets) (1.20.1)\n",
      "Requirement already satisfied: idna>=2.0 in c:\\users\\satya\\downloads\\miimansa problem\\.venv\\lib\\site-packages (from yarl<2.0,>=1.17.0->aiohttp!=4.0.0a0,!=4.0.0a1->fsspec[http]<=2025.9.0,>=2023.1.0->datasets) (3.10)\n",
      "Requirement already satisfied: six>=1.5 in c:\\users\\satya\\downloads\\miimansa problem\\.venv\\lib\\site-packages (from python-dateutil>=2.8.2->pandas) (1.17.0)\n",
      "Requirement already satisfied: charset_normalizer<4,>=2 in c:\\users\\satya\\downloads\\miimansa problem\\.venv\\lib\\site-packages (from requests->transformers) (3.4.3)\n",
      "Requirement already satisfied: urllib3<3,>=1.21.1 in c:\\users\\satya\\downloads\\miimansa problem\\.venv\\lib\\site-packages (from requests->transformers) (2.5.0)\n",
      "Requirement already satisfied: certifi>=2017.4.17 in c:\\users\\satya\\downloads\\miimansa problem\\.venv\\lib\\site-packages (from requests->transformers) (2025.8.3)\n",
      "Requirement already satisfied: mpmath<1.4,>=1.1.0 in c:\\users\\satya\\downloads\\miimansa problem\\.venv\\lib\\site-packages (from sympy>=1.13.3->torch) (1.3.0)\n",
      "Requirement already satisfied: colorama in c:\\users\\satya\\downloads\\miimansa problem\\.venv\\lib\\site-packages (from tqdm>=4.27->transformers) (0.4.6)\n",
      "Requirement already satisfied: MarkupSafe>=2.0 in c:\\users\\satya\\downloads\\miimansa problem\\.venv\\lib\\site-packages (from jinja2->torch) (3.0.2)\n",
      "Note: you may need to restart the kernel to use updated packages.\n"
     ]
    }
   ],
   "source": [
    "pip install transformers datasets torch sentence-transformers scikit-learn seqeval pandas matplotlib\n"
   ]
  },
  {
   "cell_type": "code",
   "execution_count": 4,
   "id": "9078163f",
   "metadata": {},
   "outputs": [
    {
     "name": "stdout",
     "output_type": "stream",
     "text": [
      "--- Ground Truth Entities ---\n",
      "('ADR', 'bit drowsy')\n",
      "('ADR', 'feel a bit weird')\n",
      "('ADR', 'gastric problems')\n",
      "('ADR', 'little blurred vision')\n",
      "('Disease', 'arthritis')\n",
      "('Drug', 'Arthrotec')\n",
      "('Symptom', 'agony')\n",
      "('Symptom', 'pains')\n",
      "\n",
      "--- Predicted Entities ---\n",
      "('ADR', 'art')\n",
      "('ADR', 'blurred')\n",
      "('ADR', 'drowsy')\n",
      "('Disease', 'arthritis')\n",
      "('Drug', 'hrotec')\n",
      "('Symptom', '75 twice a day')\n",
      "('Symptom', 'every day for the next month')\n",
      "('Symptom', 'over 10 years')\n",
      "('Symptom', 'pains')\n",
      "✅ Task 3 results saved:\n",
      "- ../outputs\\task3\\ARTHROTEC.1_metrics.csv\n",
      "- ../outputs\\task3\\ARTHROTEC.1_metrics.json\n",
      "\n",
      "--- Task 3 Evaluation Results ---\n",
      "Precision: 0.222\n",
      "Recall:    0.250\n",
      "F1-score:  0.235\n",
      "TP: 2, FP: 7, FN: 6\n"
     ]
    },
    {
     "data": {
      "application/vnd.microsoft.datawrangler.viewer.v0+json": {
       "columns": [
        {
         "name": "index",
         "rawType": "int64",
         "type": "integer"
        },
        {
         "name": "File",
         "rawType": "object",
         "type": "string"
        },
        {
         "name": "True Positives",
         "rawType": "int64",
         "type": "integer"
        },
        {
         "name": "False Positives",
         "rawType": "int64",
         "type": "integer"
        },
        {
         "name": "False Negatives",
         "rawType": "int64",
         "type": "integer"
        },
        {
         "name": "Precision",
         "rawType": "float64",
         "type": "float"
        },
        {
         "name": "Recall",
         "rawType": "float64",
         "type": "float"
        },
        {
         "name": "F1-score",
         "rawType": "float64",
         "type": "float"
        }
       ],
       "ref": "c99b71ce-c49a-4414-b2f3-0cdc7c7b5e9e",
       "rows": [
        [
         "0",
         "ARTHROTEC.1",
         "2",
         "7",
         "6",
         "0.2222222222222222",
         "0.25",
         "0.23529411764705882"
        ]
       ],
       "shape": {
        "columns": 7,
        "rows": 1
       }
      },
      "text/html": [
       "<div>\n",
       "<style scoped>\n",
       "    .dataframe tbody tr th:only-of-type {\n",
       "        vertical-align: middle;\n",
       "    }\n",
       "\n",
       "    .dataframe tbody tr th {\n",
       "        vertical-align: top;\n",
       "    }\n",
       "\n",
       "    .dataframe thead th {\n",
       "        text-align: right;\n",
       "    }\n",
       "</style>\n",
       "<table border=\"1\" class=\"dataframe\">\n",
       "  <thead>\n",
       "    <tr style=\"text-align: right;\">\n",
       "      <th></th>\n",
       "      <th>File</th>\n",
       "      <th>True Positives</th>\n",
       "      <th>False Positives</th>\n",
       "      <th>False Negatives</th>\n",
       "      <th>Precision</th>\n",
       "      <th>Recall</th>\n",
       "      <th>F1-score</th>\n",
       "    </tr>\n",
       "  </thead>\n",
       "  <tbody>\n",
       "    <tr>\n",
       "      <th>0</th>\n",
       "      <td>ARTHROTEC.1</td>\n",
       "      <td>2</td>\n",
       "      <td>7</td>\n",
       "      <td>6</td>\n",
       "      <td>0.222222</td>\n",
       "      <td>0.25</td>\n",
       "      <td>0.235294</td>\n",
       "    </tr>\n",
       "  </tbody>\n",
       "</table>\n",
       "</div>"
      ],
      "text/plain": [
       "          File  True Positives  False Positives  False Negatives  Precision  \\\n",
       "0  ARTHROTEC.1               2                7                6   0.222222   \n",
       "\n",
       "   Recall  F1-score  \n",
       "0    0.25  0.235294  "
      ]
     },
     "execution_count": 4,
     "metadata": {},
     "output_type": "execute_result"
    }
   ],
   "source": [
    "import sys, os, pandas as pd\n",
    "sys.path.append(\"../utils\")\n",
    "\n",
    "from evaluation import read_ground_truth_spans, load_predicted_spans, evaluate_predictions\n",
    "\n",
    "DATA_DIR = \"../data/CADEC.v2\"\n",
    "OUTPUT_DIR = \"../outputs\"\n",
    "\n",
    "# Example: Evaluate ARTHROTEC.1\n",
    "filename = \"ARTHROTEC.1\"\n",
    "\n",
    "# Paths\n",
    "gt_ann_file = os.path.join(DATA_DIR, \"original\", f\"{filename}.ann\")\n",
    "pred_json_file = os.path.join(OUTPUT_DIR, \"task2\", f\"{filename}_predictions.json\")\n",
    "\n",
    "# --- Print Ground Truth Entities ---\n",
    "print(\"--- Ground Truth Entities ---\")\n",
    "gt_spans = read_ground_truth_spans(gt_ann_file)\n",
    "for span in sorted(gt_spans):\n",
    "    print(span)\n",
    "\n",
    "# --- Print Predicted Entities ---\n",
    "print(\"\\n--- Predicted Entities ---\")\n",
    "pred_spans = load_predicted_spans(pred_json_file)\n",
    "for span in sorted(pred_spans):\n",
    "    print(span)\n",
    "\n",
    "# --- Evaluate and Save Metrics ---\n",
    "results = evaluate_predictions(filename, DATA_DIR, OUTPUT_DIR)\n",
    "\n",
    "print(\"\\n--- Task 3 Evaluation Results ---\")\n",
    "print(f\"Precision: {results['Precision']:.3f}\")\n",
    "print(f\"Recall:    {results['Recall']:.3f}\")\n",
    "print(f\"F1-score:  {results['F1-score']:.3f}\")\n",
    "print(f\"TP: {results['True Positives']}, FP: {results['False Positives']}, FN: {results['False Negatives']}\")\n",
    "\n",
    "# Show as DataFrame\n",
    "pd.DataFrame([results])\n"
   ]
  }
 ],
 "metadata": {
  "kernelspec": {
   "display_name": ".venv (3.12.7)",
   "language": "python",
   "name": "python3"
  },
  "language_info": {
   "codemirror_mode": {
    "name": "ipython",
    "version": 3
   },
   "file_extension": ".py",
   "mimetype": "text/x-python",
   "name": "python",
   "nbconvert_exporter": "python",
   "pygments_lexer": "ipython3",
   "version": "3.12.7"
  }
 },
 "nbformat": 4,
 "nbformat_minor": 5
}
